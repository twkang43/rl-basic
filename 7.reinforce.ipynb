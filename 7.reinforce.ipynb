{
  "nbformat": 4,
  "nbformat_minor": 0,
  "metadata": {
    "colab": {
      "provenance": [],
      "gpuType": "T4"
    },
    "kernelspec": {
      "name": "python3",
      "display_name": "Python 3"
    },
    "language_info": {
      "name": "python"
    },
    "accelerator": "GPU"
  },
  "cells": [
    {
      "cell_type": "code",
      "execution_count": null,
      "metadata": {
        "id": "zZrCk-9G286k"
      },
      "outputs": [],
      "source": [
        "import gym\n",
        "import torch\n",
        "import torch.nn as nn\n",
        "import torch.nn.functional as F\n",
        "import torch.optim as optim\n",
        "from torch.distributions import Categorical"
      ]
    },
    {
      "cell_type": "code",
      "source": [
        "DEVICE = torch.device(\"cuda\" if torch.cuda.is_available() else \"cpu\")\n",
        "\n",
        "# hyperparameters\n",
        "lr    = 2e-4\n",
        "gamma = 0.98"
      ],
      "metadata": {
        "id": "WH12dy6h3MyJ"
      },
      "execution_count": null,
      "outputs": []
    },
    {
      "cell_type": "code",
      "source": [
        "class Policy(nn.Module):\n",
        "  def __init__(self):\n",
        "    super(Policy, self).__init__()\n",
        "    self.data = []\n",
        "\n",
        "    self.fc = nn.Sequential(\n",
        "        nn.Linear(4,128),\n",
        "        nn.ReLU(),\n",
        "        nn.Linear(128,2),\n",
        "        nn.Softmax(dim=0)\n",
        "    )\n",
        "\n",
        "    self.optimizer = optim.Adam(self.parameters(), lr)\n",
        "\n",
        "  def forward(self, x):\n",
        "    return self.fc(x)\n",
        "\n",
        "  def put_data(self, item):\n",
        "    self.data.append(item)\n",
        "\n",
        "  def train_net(self):\n",
        "    R = 0\n",
        "    self.optimizer.zero_grad()\n",
        "    for r,prob in self.data[::-1]:\n",
        "      R = r + gamma*R\n",
        "      loss = -R * torch.log(prob)\n",
        "      loss.backward()\n",
        "    self.optimizer.step()\n",
        "    self.data = []"
      ],
      "metadata": {
        "id": "RR8jfcR83UPp"
      },
      "execution_count": null,
      "outputs": []
    },
    {
      "cell_type": "code",
      "source": [
        "def main():\n",
        "  env = gym.make('CartPole-v1')\n",
        "  pi = Policy().to(DEVICE)\n",
        "\n",
        "  score = 0.0\n",
        "  print_interval = 20\n",
        "\n",
        "  for n_epi in range(10000):\n",
        "    s = env.reset()\n",
        "    done = False\n",
        "\n",
        "    while not done:\n",
        "      prob = pi(torch.from_numpy(s).float().to(DEVICE))\n",
        "      m = Categorical(prob)\n",
        "      a = m.sample()\n",
        "\n",
        "      s_prime,r,done,_ = env.step(a.item())\n",
        "      pi.put_data([r,prob[a]])\n",
        "      s = s_prime\n",
        "      score += r\n",
        "\n",
        "    pi.train_net()\n",
        "    if (n_epi%print_interval == 0) and (n_epi != 0):\n",
        "      print(f\"# of episode: {n_epi}, avg score: {score/print_interval}\")\n",
        "      score = 0.0\n",
        "\n",
        "  env.close()"
      ],
      "metadata": {
        "id": "Lk7MRXK24R5U"
      },
      "execution_count": null,
      "outputs": []
    },
    {
      "cell_type": "code",
      "source": [
        "main()"
      ],
      "metadata": {
        "id": "IGz550iD5A00"
      },
      "execution_count": null,
      "outputs": []
    }
  ]
}