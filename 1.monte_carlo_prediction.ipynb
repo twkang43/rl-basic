{
  "nbformat": 4,
  "nbformat_minor": 0,
  "metadata": {
    "colab": {
      "provenance": []
    },
    "kernelspec": {
      "name": "python3",
      "display_name": "Python 3"
    },
    "language_info": {
      "name": "python"
    }
  },
  "cells": [
    {
      "cell_type": "code",
      "execution_count": null,
      "metadata": {
        "id": "TXASBbg2Z6D7"
      },
      "outputs": [],
      "source": [
        "import random"
      ]
    },
    {
      "cell_type": "code",
      "source": [
        "class GridWorld():\n",
        "  def __init__(self):\n",
        "    self.x,self.y = 0,0\n",
        "\n",
        "  def step(self, a):\n",
        "    if a == 0:\n",
        "      self.move_right()\n",
        "    elif a == 1:\n",
        "      self.move_left()\n",
        "    elif a == 2:\n",
        "      self.move_up()\n",
        "    elif a == 3:\n",
        "      self.move_down()\n",
        "\n",
        "    state = self.get_state()\n",
        "    reward = -1\n",
        "    done = self.is_done()\n",
        "    return state, reward, done\n",
        "\n",
        "  def move_right(self):\n",
        "    self.y += 1\n",
        "    if 3 < self.y:\n",
        "      self.y = 3\n",
        "\n",
        "  def move_left(self):\n",
        "    self.y -= 1\n",
        "    if self.y < 0:\n",
        "      self.y = 0\n",
        "\n",
        "  def move_up(self):\n",
        "    self.x -= 1\n",
        "    if self.x < 0:\n",
        "      self.x = 0\n",
        "\n",
        "  def move_down(self):\n",
        "    self.x += 1\n",
        "    if 3 < self.x:\n",
        "      self.x = 3\n",
        "\n",
        "  def is_done(self):\n",
        "    if (self.x == 3) and (self.y == 3):\n",
        "      return True\n",
        "    else:\n",
        "      return False\n",
        "\n",
        "  def get_state(self):\n",
        "    return (self.x, self.y)\n",
        "\n",
        "  def reset(self):\n",
        "    self.x,self.y = 0,0\n",
        "    return (self.x, self.y)"
      ],
      "metadata": {
        "id": "biR2O4KvZ-9v"
      },
      "execution_count": null,
      "outputs": []
    },
    {
      "cell_type": "code",
      "source": [
        "class Agent():\n",
        "  def __init__(self):\n",
        "    pass\n",
        "\n",
        "  def select_action(self):\n",
        "    coin = random.random()\n",
        "    if coin < 0.25:\n",
        "      action = 0\n",
        "    elif coin < 0.5:\n",
        "      action = 1\n",
        "    elif coin < 0.75:\n",
        "      action = 2\n",
        "    else:\n",
        "      action = 3\n",
        "\n",
        "    return action"
      ],
      "metadata": {
        "id": "g86njkgDbbdW"
      },
      "execution_count": null,
      "outputs": []
    },
    {
      "cell_type": "code",
      "source": [
        "def main():\n",
        "  env = GridWorld()\n",
        "  agent = Agent()\n",
        "\n",
        "  data = [[0,0,0,0],\n",
        "          [0,0,0,0],\n",
        "          [0,0,0,0],\n",
        "          [0,0,0,0]]\n",
        "  gamma = 1.0\n",
        "  alpha = 1e-4\n",
        "\n",
        "  for k in range(50000):\n",
        "    done = False\n",
        "    history = []\n",
        "\n",
        "    while not done:\n",
        "      action = agent.select_action()\n",
        "      (x,y), reward, done = env.step(action)\n",
        "      history.append([x,y,reward])\n",
        "    env.reset()\n",
        "\n",
        "    cum_reward = 0\n",
        "    for transition in history[::-1]:\n",
        "      x,y,reward = transition\n",
        "      data[x][y] = data[x][y] + alpha*(cum_reward - data[x][y])\n",
        "      cum_reward = reward + gamma*cum_reward\n",
        "\n",
        "  for row in data:\n",
        "    for item in row:\n",
        "      print(f\"{item:.2f} \", end=\"\")\n",
        "    print()"
      ],
      "metadata": {
        "id": "XE7fx_ADbzAH"
      },
      "execution_count": null,
      "outputs": []
    },
    {
      "cell_type": "code",
      "source": [
        "main()"
      ],
      "metadata": {
        "id": "hWAK5Zfpb2Rx"
      },
      "execution_count": null,
      "outputs": []
    }
  ]
}