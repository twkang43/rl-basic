{
  "nbformat": 4,
  "nbformat_minor": 0,
  "metadata": {
    "colab": {
      "provenance": [],
      "gpuType": "T4"
    },
    "kernelspec": {
      "name": "python3",
      "display_name": "Python 3"
    },
    "language_info": {
      "name": "python"
    },
    "accelerator": "GPU"
  },
  "cells": [
    {
      "cell_type": "code",
      "execution_count": null,
      "metadata": {
        "id": "jv8Eb-8p8vvn"
      },
      "outputs": [],
      "source": [
        "import gym\n",
        "import torch\n",
        "import torch.nn as nn\n",
        "import torch.nn.functional as F\n",
        "import torch.optim as optim\n",
        "from torch.distributions import Categorical"
      ]
    },
    {
      "cell_type": "code",
      "source": [
        "DEVICE = torch.device(\"cuda\" if torch.cuda.is_available() else \"cpu\")\n",
        "\n",
        "# hyperparameters\n",
        "lr        = 2e-4\n",
        "gamma     = 0.98\n",
        "n_rollout = 10"
      ],
      "metadata": {
        "id": "L5qo_m65-w4C"
      },
      "execution_count": null,
      "outputs": []
    },
    {
      "cell_type": "code",
      "source": [
        "class AdvantageActorCritic(nn.Module):\n",
        "  def __init__(self):\n",
        "    super(AdvantageActorCritic, self).__init__()\n",
        "    self.data = []\n",
        "\n",
        "    self.fc1 = nn.Linear(4,256)\n",
        "    self.fc_pi = nn.Linear(256,2)\n",
        "    self.fc_v = nn.Linear(256,1)\n",
        "    self.optimizer = optim.Adam(self.parameters(), lr)\n",
        "\n",
        "  def pi(self, x, softmax_dim = 0):\n",
        "    x = F.relu(self.fc1(x))\n",
        "    x = self.fc_pi(x)\n",
        "    prob = F.softmax(x, dim=softmax_dim)\n",
        "    return prob\n",
        "\n",
        "  def v(self, x):\n",
        "    x = F.relu(self.fc1(x))\n",
        "    v = self.fc_v(x)\n",
        "    return v\n",
        "\n",
        "  def put_data(self, transition):\n",
        "    self.data.append(transition)\n",
        "\n",
        "  def make_batch(self):\n",
        "    s_list,a_list,r_list,s_prime_list,done_list = [],[],[],[],[]\n",
        "\n",
        "    for transition in self.data:\n",
        "      s,a,r,s_prime,done = transition\n",
        "\n",
        "      s_list.append(s)\n",
        "      a_list.append([a])\n",
        "      r_list.append([r/100.0])\n",
        "      s_prime_list.append(s_prime)\n",
        "      done_mask = 0.0 if done else 1.0\n",
        "      done_list.append([done_mask])\n",
        "\n",
        "    s_batch = torch.tensor(s_list, device=DEVICE, dtype=torch.float)\n",
        "    a_batch = torch.tensor(a_list, device=DEVICE)\n",
        "    r_batch = torch.tensor(r_list, device=DEVICE, dtype=torch.float)\n",
        "    s_prime_batch = torch.tensor(s_prime_list, device=DEVICE, dtype=torch.float)\n",
        "    done_batch = torch.tensor(done_list, device=DEVICE, dtype=torch.float)\n",
        "\n",
        "    self.data = []\n",
        "    return s_batch, a_batch, r_batch, s_prime_batch, done_batch\n",
        "\n",
        "  def train_net(self):\n",
        "    s,a,r,s_prime,done = self.make_batch()\n",
        "\n",
        "    td_target = r + gamma*self.v(s_prime)*done\n",
        "    delta = td_target - self.v(s)\n",
        "\n",
        "    pi = self.pi(s, softmax_dim=1)\n",
        "    pi_a = pi.gather(1,a)\n",
        "    loss = -torch.log(pi_a)*delta.detach() + F.smooth_l1_loss(self.v(s),td_target.detach()) # Actor(pi) loss + Critic(V) loss\n",
        "\n",
        "    self.optimizer.zero_grad()\n",
        "    loss.mean().backward()\n",
        "    self.optimizer.step()"
      ],
      "metadata": {
        "id": "kupKGGDl-4lw"
      },
      "execution_count": null,
      "outputs": []
    },
    {
      "cell_type": "code",
      "source": [
        "def main():\n",
        "  env = gym.make('CartPole-v1')\n",
        "  model = AdvantageActorCritic().to(DEVICE)\n",
        "\n",
        "  print_interval = 20\n",
        "  score = 0.0\n",
        "\n",
        "  for n_epi in range(10000):\n",
        "    done = False\n",
        "    s = env.reset()\n",
        "\n",
        "    while not done:\n",
        "      for t in range(n_rollout):\n",
        "        prob = model.pi(torch.from_numpy(s).float().to(DEVICE))\n",
        "        m = Categorical(prob)\n",
        "        a = m.sample().item()\n",
        "\n",
        "        s_prime,r,done,_ = env.step(a)\n",
        "        model.put_data([s,a,r,s_prime,done])\n",
        "\n",
        "        s = s_prime\n",
        "        score += r\n",
        "\n",
        "        if done:\n",
        "          break\n",
        "\n",
        "      model.train_net()\n",
        "\n",
        "    if (n_epi%print_interval == 0) and (n_epi != 0):\n",
        "      print(f\"# of episode :{n_epi}, avg score : {score/print_interval:.1f}\")\n",
        "      score = 0.0\n",
        "\n",
        "  env.close()"
      ],
      "metadata": {
        "id": "RTw35oXPBX2v"
      },
      "execution_count": null,
      "outputs": []
    },
    {
      "cell_type": "code",
      "source": [
        "main()"
      ],
      "metadata": {
        "id": "tuov0kyWCM62"
      },
      "execution_count": null,
      "outputs": []
    }
  ]
}