{
  "nbformat": 4,
  "nbformat_minor": 0,
  "metadata": {
    "colab": {
      "provenance": []
    },
    "kernelspec": {
      "name": "python3",
      "display_name": "Python 3"
    },
    "language_info": {
      "name": "python"
    }
  },
  "cells": [
    {
      "cell_type": "code",
      "execution_count": null,
      "metadata": {
        "id": "gEbMQCJ-oiDG"
      },
      "outputs": [],
      "source": [
        "import random\n",
        "import numpy as np"
      ]
    },
    {
      "cell_type": "code",
      "source": [
        "class GridWorld():\n",
        "  def __init__(self):\n",
        "    self.x,self.y = 0,0\n",
        "\n",
        "  def step(self, a):\n",
        "    if a == 0:\n",
        "      self.move_left()\n",
        "    elif a == 1:\n",
        "      self.move_up()\n",
        "    elif a == 2:\n",
        "      self.move_right()\n",
        "    elif a == 3:\n",
        "      self.move_down()\n",
        "\n",
        "    reward = -1\n",
        "    done = self.is_done()\n",
        "    return (self.x, self.y), reward, done\n",
        "\n",
        "  def move_left(self):\n",
        "    if self.y == 0:\n",
        "      pass\n",
        "    elif (self.y == 3) and (self.x in [0,1,2]):\n",
        "      pass\n",
        "    elif (self.y == 5) and (self.x in [2,3,4]):\n",
        "      pass\n",
        "    else:\n",
        "      self.y -= 1\n",
        "\n",
        "  def move_right(self):\n",
        "    if (self.y == 1) and (self.x in [0,1,2]):\n",
        "      pass\n",
        "    elif (self.y == 3) and (self.x in [2,3,4]):\n",
        "      pass\n",
        "    elif self.y == 6:\n",
        "      pass\n",
        "    else:\n",
        "      self.y += 1\n",
        "\n",
        "  def move_up(self):\n",
        "    if self.x == 0:\n",
        "      pass\n",
        "    elif (self.x == 3) and (self.y) == 2:\n",
        "      pass\n",
        "    else:\n",
        "      self.x -= 1\n",
        "\n",
        "  def move_down(self):\n",
        "    if self.x == 4:\n",
        "      pass\n",
        "    elif (self.x == 1) and (self.y == 4):\n",
        "      pass\n",
        "    else:\n",
        "      self.x += 1\n",
        "\n",
        "  def is_done(self):\n",
        "    if (self.x == 4) and (self.y == 6):\n",
        "      return True\n",
        "    else:\n",
        "      return False\n",
        "\n",
        "  def reset(self):\n",
        "    self.x,self.y = 0,0\n",
        "    return (self.x, self.y)"
      ],
      "metadata": {
        "id": "giWDxEjuoma1"
      },
      "execution_count": null,
      "outputs": []
    },
    {
      "cell_type": "code",
      "source": [
        "class QAgent():\n",
        "  def __init__(self):\n",
        "    self.q_table = np.zeros((5,7,4))\n",
        "    self.eps = 0.9\n",
        "    self.alpha = 1e-1\n",
        "    self.gamma = 1.0\n",
        "\n",
        "  def select_action(self, s):\n",
        "    x,y = s\n",
        "    coin = random.random()\n",
        "    if coin < self.eps:\n",
        "      action = random.randint(0,3)\n",
        "    else:\n",
        "      action_val = self.q_table[x,y,:]\n",
        "      action = np.argmax(action_val)\n",
        "    return action\n",
        "\n",
        "  def update_table(self, transition):\n",
        "    s,a,r,s_prime = transition\n",
        "    x,y = s\n",
        "    next_x, next_y = s_prime\n",
        "    a_prime = self.select_action(s_prime)\n",
        "    self.q_table[x,y,a] = self.q_table[x,y,a] + self.alpha*(r + self.q_table[next_x,next_y,a_prime] - self.q_table[x,y,a])\n",
        "\n",
        "  def anneal_eps(self):\n",
        "    self.eps -= 0.03\n",
        "    self.eps = max(self.eps, 0.1)\n",
        "\n",
        "  def show_table(self):\n",
        "    q_list = self.q_table.tolist()\n",
        "    data = np.zeros((5,7))\n",
        "    for i, row in enumerate(q_list):\n",
        "      for j, col in enumerate(row):\n",
        "        action = np.argmax(col)\n",
        "        data[i,j] = action\n",
        "    print(data)"
      ],
      "metadata": {
        "id": "VSpdj4RFpzjg"
      },
      "execution_count": null,
      "outputs": []
    },
    {
      "cell_type": "code",
      "source": [
        "def main():\n",
        "  env = GridWorld()\n",
        "  agent = QAgent()\n",
        "\n",
        "  for n_epi in range(1000):\n",
        "    done = False\n",
        "    history = []\n",
        "\n",
        "    s = env.reset()\n",
        "    while not done:\n",
        "      a = agent.select_action(s)\n",
        "      s_prime, r, done = env.step(a)\n",
        "      agent.update_table((s,a,r,s_prime))\n",
        "      s = s_prime\n",
        "    agent.anneal_eps()\n",
        "\n",
        "  agent.show_table()"
      ],
      "metadata": {
        "id": "pVyxja0ZrEqk"
      },
      "execution_count": null,
      "outputs": []
    },
    {
      "cell_type": "code",
      "source": [
        "main()"
      ],
      "metadata": {
        "id": "sir3z5ZhrVzq"
      },
      "execution_count": null,
      "outputs": []
    }
  ]
}